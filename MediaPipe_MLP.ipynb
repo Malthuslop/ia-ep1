{
 "cells": [
  {
   "cell_type": "code",
   "execution_count": 15,
   "metadata": {
    "id": "kXTPDmf3mRMk"
   },
   "outputs": [],
   "source": [
    "from matplotlib import pyplot as plt\n",
    "import os\n",
    "import pandas as pd\n",
    "import seaborn as sns\n",
    "import numpy as np\n",
    "import cv2 \n",
    "from sklearn.neural_network import MLPClassifier\n",
    "from mlp_predict_tools import *\n",
    "import joblib\n",
    "import mediapipe as mp\n",
    "# Usado para criar a Matrix de Confusão\n",
    "from sklearn.metrics import confusion_matrix, accuracy_score\n",
    "from interface_aplication_tools import display_classification, display_prediction\n",
    "import time\n",
    "# %matplotlib inline # para jupyter notebook"
   ]
  },
  {
   "cell_type": "code",
   "execution_count": null,
   "metadata": {},
   "outputs": [],
   "source": [
    "# Código para garantir que o nome de cada arquivo de imagem seja um número inteiro e\n",
    "# que os números sigam uma sequencia monotonica iniciando em 1\n",
    "# o diretório relativo a letra T possuía problemas com os nomes de algumas imagens\n",
    "# NÂO é necessário executar o código dessa célula, a menos que o conjunto de dados \n",
    "# com os nomes originais seja usado\n",
    "lista_de_arquivos = []\n",
    "for nome_do_arquivo in os.listdir('imagens/train/T'):\n",
    "         if os.path.isfile(os.path.join('imagens/train/T', nome_do_arquivo)):\n",
    "             lista_de_arquivos.append(nome_do_arquivo)\n",
    "lista_de_arquivos.sort()\n",
    "indice_inicial = 413\n",
    "for i in range(indice_inicial, len(lista_de_arquivos)):\n",
    "    nome_atual = f'./imagens/train/T/{lista_de_arquivos[i]}'\n",
    "    novo_indice = i + 1\n",
    "    nome_novo = f'./imagens/train/T/{novo_indice}.png'\n",
    "    os.rename(nome_atual, nome_novo)"
   ]
  },
  {
   "cell_type": "code",
   "execution_count": null,
   "metadata": {},
   "outputs": [],
   "source": [
    "# Lista com nome de todos os diretórios\n",
    "label = [\"A\",\"B\",\"C\",\"D\",\"E\",\"F\",\"G\",\"I\",\"L\",\"M\",\"N\",\"O\",\"P\",\"Q\",\"R\",\"S\",\"T\",\"U\",\"V\",\"W\"]"
   ]
  },
  {
   "cell_type": "markdown",
   "metadata": {},
   "source": [
    "# Landmarks: \n",
    "* WRIST\n",
    "* THUMB_CMC\n",
    "* THUMB_MCP\n",
    "* THUMB_IP\n",
    "* THUMB_TIP\n",
    "* INDEX_FINGER_MCP\n",
    "* INDEX_FINGER_PIP\n",
    "* INDEX_FINGER_DIP\n",
    "* INDEX_FINGER_TIP\n",
    "* MIDDLE_FINGER_MCP\n",
    "* MIDDLE_FINGER_PIP\n",
    "* MIDDLE_FINGER_DIP\n",
    "* MIDDLE_FINGER_TIP\n",
    "* RING_FINGER_MCP\n",
    "* RING_FINGER_PIP\n",
    "* RING_FINGER_DIP\n",
    "* RING_FINGER_TIP\n",
    "* PINKY_MCP\n",
    "* PINKY_PIP\n",
    "* PINKY_DIP\n",
    "* PINKY_TIP\n"
   ]
  },
  {
   "cell_type": "code",
   "execution_count": null,
   "metadata": {},
   "outputs": [],
   "source": [
    "gerador_de_csv_com_as_coordenadas_e_os_rotulos('test', 'normalizado')\n",
    "gerador_de_csv_com_as_coordenadas_e_os_rotulos('test', 'centro_geometrico')\n",
    "gerador_de_csv_com_as_coordenadas_e_os_rotulos('train', 'normalizado')\n",
    "gerador_de_csv_com_as_coordenadas_e_os_rotulos('train', 'centro_geometrico')"
   ]
  },
  {
   "cell_type": "code",
   "execution_count": null,
   "metadata": {},
   "outputs": [],
   "source": [
    "df_train = pd.read_csv('train_centro_geometrico.csv')\n",
    "X_train = df_train.drop(columns=['label'])\n",
    "y_train = df_train['label']"
   ]
  },
  {
   "cell_type": "code",
   "execution_count": null,
   "metadata": {},
   "outputs": [],
   "source": [
    "df_test = pd.read_csv('test_centro_geometrico.csv')\n",
    "X_test = df_test.drop(columns=['label'])\n",
    "y_test = df_test['label']"
   ]
  },
  {
   "cell_type": "code",
   "execution_count": null,
   "metadata": {},
   "outputs": [],
   "source": [
    "clf = MLPClassifier(solver='lbfgs', alpha=1e-5,hidden_layer_sizes=(100,100), random_state=1, max_iter = 10000)\n"
   ]
  },
  {
   "cell_type": "code",
   "execution_count": null,
   "metadata": {},
   "outputs": [],
   "source": [
    "clf.fit(X_train, y_train)"
   ]
  },
  {
   "cell_type": "code",
   "execution_count": null,
   "metadata": {},
   "outputs": [],
   "source": [
    "results = clf.score(X_test,y_test)"
   ]
  },
  {
   "cell_type": "code",
   "execution_count": null,
   "metadata": {},
   "outputs": [],
   "source": [
    "resultado_test = clf.predict(X_test)"
   ]
  },
  {
   "cell_type": "code",
   "execution_count": null,
   "metadata": {},
   "outputs": [],
   "source": [
    "class_test = y_test"
   ]
  },
  {
   "cell_type": "code",
   "execution_count": null,
   "metadata": {},
   "outputs": [],
   "source": [
    "acuracia = accuracy_score(resultado_test, class_test)\n",
    "print(f\"\\nacurácia: {acuracia*100}%\")\n",
    "conf_matrix = confusion_matrix(resultado_test, class_test)\n",
    "print(f\"\\nMatrix de Confusão: {conf_matrix}\")\n",
    "\n",
    "\n",
    "# Visualização da Matrz de confusão com seaborn\n",
    "fig, axes = plt.subplots(1, 2, figsize=(200, 100), sharey=True)\n",
    "fig.suptitle(\"Matrizes de Confusão\")\n",
    "\n",
    "sns.heatmap(ax=axes[0], data=conf_matrix, annot=True)\n",
    "axes[0].set_title(\"Matriz de Confusão\")\n",
    "\n",
    "sns.heatmap(ax=axes[1], data=conf_matrix/np.sum(conf_matrix), annot=True,\n",
    "            fmt='.2%', cmap='Blues')\n",
    "axes[1].set_title(\"Matriz de Confusão Percentual\");\n",
    "plt.show()\n"
   ]
  },
  {
   "cell_type": "code",
   "execution_count": null,
   "metadata": {},
   "outputs": [],
   "source": [
    "print(results)"
   ]
  },
  {
   "cell_type": "code",
   "execution_count": null,
   "metadata": {},
   "outputs": [],
   "source": [
    "# Salvar o modelo usando joblib\n",
    "arquivo_joblib = \"modelo_treinado_mediapipe.joblib\"\n",
    "joblib.dump(clf, arquivo_joblib)"
   ]
  },
  {
   "cell_type": "code",
   "execution_count": null,
   "metadata": {},
   "outputs": [],
   "source": [
    "df_results_compare = pd.DataFrame(results == y_test)\n",
    "df_results_compare['label'].value_counts()\n",
    "    "
   ]
  },
  {
   "cell_type": "code",
   "execution_count": 17,
   "metadata": {},
   "outputs": [
    {
     "name": "stderr",
     "output_type": "stream",
     "text": [
      "[ WARN:0@2153.441] global cap_v4l.cpp:999 open VIDEOIO(V4L2:/dev/video0): can't open camera by index\n",
      "[ERROR:0@2153.443] global obsensor_uvc_stream_channel.cpp:158 getStreamChannelGroup Camera index out of range\n"
     ]
    },
    {
     "name": "stderr",
     "output_type": "stream",
     "text": [
      "INFO: Created TensorFlow Lite XNNPACK delegate for CPU.\n",
      "WARNING: All log messages before absl::InitializeLog() is called are written to STDERR\n",
      "W0000 00:00:1718465295.330823   26618 inference_feedback_manager.cc:114] Feedback manager requires a model with a single signature inference. Disabling support for feedback tensors.\n",
      "W0000 00:00:1718465295.363952   26617 inference_feedback_manager.cc:114] Feedback manager requires a model with a single signature inference. Disabling support for feedback tensors.\n"
     ]
    }
   ],
   "source": [
    "\n",
    "# Carregar o modelo treinado\n",
    "model = joblib.load('modelo_treinado_mediapipe_joblib.sav')\n",
    "\n",
    "# Inicializar MediaPipe para detecção de mãos\n",
    "mp_hands = mp.solutions.hands\n",
    "hands = mp_hands.Hands(static_image_mode=False, max_num_hands=1, min_detection_confidence=0.5)\n",
    "\n",
    "# Inicializar a câmera\n",
    "cap = cv2.VideoCapture(0)\n",
    "\n",
    "# Último tempo de captura\n",
    "last_capture_time = time.time()\n",
    "\n",
    "while cap.isOpened():\n",
    "    ret, frame = cap.read()\n",
    "    if not ret:\n",
    "        print(\"Erro ao capturar o frame da câmera\")\n",
    "        break\n",
    "    \n",
    "    # Converter a imagem para RGB\n",
    "    rgb_frame = cv2.cvtColor(frame, cv2.COLOR_BGR2RGB)\n",
    "\n",
    "    # Mostrar a câmera com um label inicial\n",
    "    display_prediction(frame)\n",
    "\n",
    "    # Tempo atual\n",
    "    current_time = time.time()\n",
    "    \n",
    "    # Verificar se 0.5 segundos passaram desde a última captura\n",
    "    if current_time - last_capture_time >= 0.5:\n",
    "        last_capture_time = current_time\n",
    "        \n",
    "    # Processar a imagem e obter as coordenadas\n",
    "    coordinates = imagem_para_lista_de_coordenadas(frame, \"centro_geometrico\", hands)\n",
    "    \n",
    "    if coordinates is not None:\n",
    "        # Fazer a previsão usando o modelo\n",
    "        prediction = model.predict(np.array([coordinates]))\n",
    "        \n",
    "        display_classification(frame, prediction)\n",
    "\n",
    "    # Aguardar um pequeno atraso antes de capturar o próximo frame\n",
    "    time.sleep(0.02)\n"
   ]
  }
 ],
 "metadata": {
  "colab": {
   "provenance": []
  },
  "kernelspec": {
   "display_name": "Python 3 (ipykernel)",
   "language": "python",
   "name": "python3"
  },
  "language_info": {
   "codemirror_mode": {
    "name": "ipython",
    "version": 3
   },
   "file_extension": ".py",
   "mimetype": "text/x-python",
   "name": "python",
   "nbconvert_exporter": "python",
   "pygments_lexer": "ipython3",
   "version": "3.11.9"
  }
 },
 "nbformat": 4,
 "nbformat_minor": 4
}
