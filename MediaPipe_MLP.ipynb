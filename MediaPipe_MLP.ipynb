{
 "cells": [
  {
   "cell_type": "code",
   "execution_count": null,
   "metadata": {
    "id": "kXTPDmf3mRMk"
   },
   "outputs": [],
   "source": [
    "from matplotlib import pyplot as plt\n",
    "import os\n",
    "import pandas as pd\n",
    "import seaborn as sns\n",
    "import numpy as np\n",
    "import tensorflow as tf\n",
    "import cv2 \n",
    "from sklearn.neural_network import MLPClassifier\n",
    "from mlp_predict_tools import gerador_de_csv_com_as_coordenadas_e_os_rotulos\n",
    "import joblib\n",
    "# Usado para criar a Matrix de Confusão\n",
    "from sklearn.metrics import confusion_matrix, accuracy_score\n",
    "# %matplotlib inline # para jupyter notebook"
   ]
  },
  {
   "cell_type": "code",
   "execution_count": null,
   "metadata": {},
   "outputs": [],
   "source": [
    "# Código para garantir que o nome de cada arquivo de imagem seja um número inteiro e\n",
    "# que os números sigam uma sequencia monotonica iniciando em 1\n",
    "# o diretório relativo a letra T possuía problemas com os nomes de algumas imagens\n",
    "# NÂO é necessário executar o código dessa célula, a menos que o conjunto de dados \n",
    "# com os nomes originais seja usado\n",
    "lista_de_arquivos = []\n",
    "for nome_do_arquivo in os.listdir('imagens/train/T'):\n",
    "         if os.path.isfile(os.path.join('imagens/train/T', nome_do_arquivo)):\n",
    "             lista_de_arquivos.append(nome_do_arquivo)\n",
    "lista_de_arquivos.sort()\n",
    "indice_inicial = 413\n",
    "for i in range(indice_inicial, len(lista_de_arquivos)):\n",
    "    nome_atual = f'./imagens/train/T/{lista_de_arquivos[i]}'\n",
    "    novo_indice = i + 1\n",
    "    nome_novo = f'./imagens/train/T/{novo_indice}.png'\n",
    "    os.rename(nome_atual, nome_novo)"
   ]
  },
  {
   "cell_type": "code",
   "execution_count": null,
   "metadata": {},
   "outputs": [],
   "source": [
    "# Lista com nome de todos os diretórios\n",
    "label = [\"A\",\"B\",\"C\",\"D\",\"E\",\"F\",\"G\",\"I\",\"L\",\"M\",\"N\",\"O\",\"P\",\"Q\",\"R\",\"S\",\"T\",\"U\",\"V\",\"W\"]"
   ]
  },
  {
   "cell_type": "markdown",
   "metadata": {},
   "source": [
    "# Landmarks: \n",
    "* WRIST\n",
    "* THUMB_CMC\n",
    "* THUMB_MCP\n",
    "* THUMB_IP\n",
    "* THUMB_TIP\n",
    "* INDEX_FINGER_MCP\n",
    "* INDEX_FINGER_PIP\n",
    "* INDEX_FINGER_DIP\n",
    "* INDEX_FINGER_TIP\n",
    "* MIDDLE_FINGER_MCP\n",
    "* MIDDLE_FINGER_PIP\n",
    "* MIDDLE_FINGER_DIP\n",
    "* MIDDLE_FINGER_TIP\n",
    "* RING_FINGER_MCP\n",
    "* RING_FINGER_PIP\n",
    "* RING_FINGER_DIP\n",
    "* RING_FINGER_TIP\n",
    "* PINKY_MCP\n",
    "* PINKY_PIP\n",
    "* PINKY_DIP\n",
    "* PINKY_TIP\n"
   ]
  },
  {
   "cell_type": "code",
   "execution_count": null,
   "metadata": {},
   "outputs": [],
   "source": [
    "gerador_de_csv_com_as_coordenadas_e_os_rotulos('test', 'normalizado')\n",
    "gerador_de_csv_com_as_coordenadas_e_os_rotulos('test', 'centro_geometrico')\n",
    "gerador_de_csv_com_as_coordenadas_e_os_rotulos('train', 'normalizado')\n",
    "gerador_de_csv_com_as_coordenadas_e_os_rotulos('train', 'centro_geometrico')"
   ]
  },
  {
   "cell_type": "code",
   "execution_count": null,
   "metadata": {},
   "outputs": [],
   "source": [
    "df_train = pd.read_csv('train_centro_geometrico.csv')\n",
    "X_train = df_train.drop(columns=['label'])\n",
    "y_train = df_train['label']"
   ]
  },
  {
   "cell_type": "code",
   "execution_count": null,
   "metadata": {},
   "outputs": [],
   "source": [
    "df_test = pd.read_csv('test_centro_geometrico.csv')\n",
    "X_test = df_test.drop(columns=['label'])\n",
    "y_test = df_test['label']"
   ]
  },
  {
   "cell_type": "code",
   "execution_count": null,
   "metadata": {},
   "outputs": [],
   "source": [
    "clf = MLPClassifier(solver='lbfgs', alpha=1e-5,hidden_layer_sizes=(100,100), random_state=1, max_iter = 10000)\n"
   ]
  },
  {
   "cell_type": "code",
   "execution_count": null,
   "metadata": {},
   "outputs": [],
   "source": [
    "clf.fit(X_train, y_train)"
   ]
  },
  {
   "cell_type": "code",
   "execution_count": null,
   "metadata": {},
   "outputs": [],
   "source": [
    "results = clf.score(X_test,y_test)"
   ]
  },
  {
   "cell_type": "code",
   "execution_count": null,
   "metadata": {},
   "outputs": [],
   "source": [
    "resultado_test = clf.predict(X_test)"
   ]
  },
  {
   "cell_type": "code",
   "execution_count": null,
   "metadata": {},
   "outputs": [],
   "source": [
    "class_test = y_test"
   ]
  },
  {
   "cell_type": "code",
   "execution_count": null,
   "metadata": {},
   "outputs": [],
   "source": [
    "acuracia = accuracy_score(resultado_test, class_test)\n",
    "print(f\"\\nacurácia: {acuracia*100}%\")\n",
    "conf_matrix = confusion_matrix(resultado_test, class_test)\n",
    "print(f\"\\nMatrix de Confusão: {conf_matrix}\")\n",
    "\n",
    "\n",
    "# Visualização da Matrz de confusão com seaborn\n",
    "fig, axes = plt.subplots(1, 2, figsize=(200, 100), sharey=True)\n",
    "fig.suptitle(\"Matrizes de Confusão\")\n",
    "\n",
    "sns.heatmap(ax=axes[0], data=conf_matrix, annot=True)\n",
    "axes[0].set_title(\"Matriz de Confusão\")\n",
    "\n",
    "sns.heatmap(ax=axes[1], data=conf_matrix/np.sum(conf_matrix), annot=True,\n",
    "            fmt='.2%', cmap='Blues')\n",
    "axes[1].set_title(\"Matriz de Confusão Percentual\");\n",
    "plt.show()\n"
   ]
  },
  {
   "cell_type": "code",
   "execution_count": null,
   "metadata": {},
   "outputs": [],
   "source": [
    "print(results)"
   ]
  },
  {
   "cell_type": "code",
   "execution_count": null,
   "metadata": {},
   "outputs": [],
   "source": [
    "# Salvar o modelo usando joblib\n",
    "arquivo_joblib = \"modelo_treinado_mediapipe.joblib\"\n",
    "joblib.dump(clf, arquivo_joblib)"
   ]
  },
  {
   "cell_type": "code",
   "execution_count": null,
   "metadata": {},
   "outputs": [],
   "source": [
    "df_results_compare = pd.DataFrame(results == y_test)\n",
    "df_results_compare['label'].value_counts()\n",
    "    "
   ]
  },
  {
   "cell_type": "code",
   "execution_count": 1,
   "metadata": {},
   "outputs": [
    {
     "name": "stderr",
     "output_type": "stream",
     "text": [
      "C:\\Users\\bruno\\AppData\\Local\\Packages\\PythonSoftwareFoundation.Python.3.11_qbz5n2kfra8p0\\LocalCache\\local-packages\\Python311\\site-packages\\google\\protobuf\\symbol_database.py:55: UserWarning: SymbolDatabase.GetPrototype() is deprecated. Please use message_factory.GetMessageClass() instead. SymbolDatabase.GetPrototype() will be removed soon.\n",
      "  warnings.warn('SymbolDatabase.GetPrototype() is deprecated. Please '\n"
     ]
    },
    {
     "ename": "ValueError",
     "evalue": "Shape of passed values is (1, 63), indices imply (1, 7)",
     "output_type": "error",
     "traceback": [
      "\u001b[1;31m---------------------------------------------------------------------------\u001b[0m",
      "\u001b[1;31mValueError\u001b[0m                                Traceback (most recent call last)",
      "Cell \u001b[1;32mIn[1], line 61\u001b[0m\n\u001b[0;32m     58\u001b[0m landmarks_array \u001b[38;5;241m=\u001b[39m preprocess_landmarks(hand_landmarks)\n\u001b[0;32m     60\u001b[0m \u001b[38;5;66;03m# Adicionar as coordenadas ao DataFrame\u001b[39;00m\n\u001b[1;32m---> 61\u001b[0m df_coordinates \u001b[38;5;241m=\u001b[39m pd\u001b[38;5;241m.\u001b[39mconcat([df_coordinates, \u001b[43mpd\u001b[49m\u001b[38;5;241;43m.\u001b[39;49m\u001b[43mDataFrame\u001b[49m\u001b[43m(\u001b[49m\u001b[43mlandmarks_array\u001b[49m\u001b[43m,\u001b[49m\u001b[43m \u001b[49m\u001b[43mcolumns\u001b[49m\u001b[38;5;241;43m=\u001b[39;49m\u001b[43mdf_coordinates\u001b[49m\u001b[38;5;241;43m.\u001b[39;49m\u001b[43mcolumns\u001b[49m\u001b[43m)\u001b[49m], ignore_index\u001b[38;5;241m=\u001b[39m\u001b[38;5;28;01mTrue\u001b[39;00m)\n\u001b[0;32m     63\u001b[0m \u001b[38;5;66;03m# Fazer a previsão usando o modelo\u001b[39;00m\n\u001b[0;32m     64\u001b[0m prediction \u001b[38;5;241m=\u001b[39m model\u001b[38;5;241m.\u001b[39mpredict(landmarks_array)\n",
      "File \u001b[1;32m~\\AppData\\Local\\Packages\\PythonSoftwareFoundation.Python.3.11_qbz5n2kfra8p0\\LocalCache\\local-packages\\Python311\\site-packages\\pandas\\core\\frame.py:827\u001b[0m, in \u001b[0;36mDataFrame.__init__\u001b[1;34m(self, data, index, columns, dtype, copy)\u001b[0m\n\u001b[0;32m    816\u001b[0m         mgr \u001b[38;5;241m=\u001b[39m dict_to_mgr(\n\u001b[0;32m    817\u001b[0m             \u001b[38;5;66;03m# error: Item \"ndarray\" of \"Union[ndarray, Series, Index]\" has no\u001b[39;00m\n\u001b[0;32m    818\u001b[0m             \u001b[38;5;66;03m# attribute \"name\"\u001b[39;00m\n\u001b[1;32m   (...)\u001b[0m\n\u001b[0;32m    824\u001b[0m             copy\u001b[38;5;241m=\u001b[39m_copy,\n\u001b[0;32m    825\u001b[0m         )\n\u001b[0;32m    826\u001b[0m     \u001b[38;5;28;01melse\u001b[39;00m:\n\u001b[1;32m--> 827\u001b[0m         mgr \u001b[38;5;241m=\u001b[39m \u001b[43mndarray_to_mgr\u001b[49m\u001b[43m(\u001b[49m\n\u001b[0;32m    828\u001b[0m \u001b[43m            \u001b[49m\u001b[43mdata\u001b[49m\u001b[43m,\u001b[49m\n\u001b[0;32m    829\u001b[0m \u001b[43m            \u001b[49m\u001b[43mindex\u001b[49m\u001b[43m,\u001b[49m\n\u001b[0;32m    830\u001b[0m \u001b[43m            \u001b[49m\u001b[43mcolumns\u001b[49m\u001b[43m,\u001b[49m\n\u001b[0;32m    831\u001b[0m \u001b[43m            \u001b[49m\u001b[43mdtype\u001b[49m\u001b[38;5;241;43m=\u001b[39;49m\u001b[43mdtype\u001b[49m\u001b[43m,\u001b[49m\n\u001b[0;32m    832\u001b[0m \u001b[43m            \u001b[49m\u001b[43mcopy\u001b[49m\u001b[38;5;241;43m=\u001b[39;49m\u001b[43mcopy\u001b[49m\u001b[43m,\u001b[49m\n\u001b[0;32m    833\u001b[0m \u001b[43m            \u001b[49m\u001b[43mtyp\u001b[49m\u001b[38;5;241;43m=\u001b[39;49m\u001b[43mmanager\u001b[49m\u001b[43m,\u001b[49m\n\u001b[0;32m    834\u001b[0m \u001b[43m        \u001b[49m\u001b[43m)\u001b[49m\n\u001b[0;32m    836\u001b[0m \u001b[38;5;66;03m# For data is list-like, or Iterable (will consume into list)\u001b[39;00m\n\u001b[0;32m    837\u001b[0m \u001b[38;5;28;01melif\u001b[39;00m is_list_like(data):\n",
      "File \u001b[1;32m~\\AppData\\Local\\Packages\\PythonSoftwareFoundation.Python.3.11_qbz5n2kfra8p0\\LocalCache\\local-packages\\Python311\\site-packages\\pandas\\core\\internals\\construction.py:336\u001b[0m, in \u001b[0;36mndarray_to_mgr\u001b[1;34m(values, index, columns, dtype, copy, typ)\u001b[0m\n\u001b[0;32m    331\u001b[0m \u001b[38;5;66;03m# _prep_ndarraylike ensures that values.ndim == 2 at this point\u001b[39;00m\n\u001b[0;32m    332\u001b[0m index, columns \u001b[38;5;241m=\u001b[39m _get_axes(\n\u001b[0;32m    333\u001b[0m     values\u001b[38;5;241m.\u001b[39mshape[\u001b[38;5;241m0\u001b[39m], values\u001b[38;5;241m.\u001b[39mshape[\u001b[38;5;241m1\u001b[39m], index\u001b[38;5;241m=\u001b[39mindex, columns\u001b[38;5;241m=\u001b[39mcolumns\n\u001b[0;32m    334\u001b[0m )\n\u001b[1;32m--> 336\u001b[0m \u001b[43m_check_values_indices_shape_match\u001b[49m\u001b[43m(\u001b[49m\u001b[43mvalues\u001b[49m\u001b[43m,\u001b[49m\u001b[43m \u001b[49m\u001b[43mindex\u001b[49m\u001b[43m,\u001b[49m\u001b[43m \u001b[49m\u001b[43mcolumns\u001b[49m\u001b[43m)\u001b[49m\n\u001b[0;32m    338\u001b[0m \u001b[38;5;28;01mif\u001b[39;00m typ \u001b[38;5;241m==\u001b[39m \u001b[38;5;124m\"\u001b[39m\u001b[38;5;124marray\u001b[39m\u001b[38;5;124m\"\u001b[39m:\n\u001b[0;32m    339\u001b[0m     \u001b[38;5;28;01mif\u001b[39;00m \u001b[38;5;28missubclass\u001b[39m(values\u001b[38;5;241m.\u001b[39mdtype\u001b[38;5;241m.\u001b[39mtype, \u001b[38;5;28mstr\u001b[39m):\n",
      "File \u001b[1;32m~\\AppData\\Local\\Packages\\PythonSoftwareFoundation.Python.3.11_qbz5n2kfra8p0\\LocalCache\\local-packages\\Python311\\site-packages\\pandas\\core\\internals\\construction.py:420\u001b[0m, in \u001b[0;36m_check_values_indices_shape_match\u001b[1;34m(values, index, columns)\u001b[0m\n\u001b[0;32m    418\u001b[0m passed \u001b[38;5;241m=\u001b[39m values\u001b[38;5;241m.\u001b[39mshape\n\u001b[0;32m    419\u001b[0m implied \u001b[38;5;241m=\u001b[39m (\u001b[38;5;28mlen\u001b[39m(index), \u001b[38;5;28mlen\u001b[39m(columns))\n\u001b[1;32m--> 420\u001b[0m \u001b[38;5;28;01mraise\u001b[39;00m \u001b[38;5;167;01mValueError\u001b[39;00m(\u001b[38;5;124mf\u001b[39m\u001b[38;5;124m\"\u001b[39m\u001b[38;5;124mShape of passed values is \u001b[39m\u001b[38;5;132;01m{\u001b[39;00mpassed\u001b[38;5;132;01m}\u001b[39;00m\u001b[38;5;124m, indices imply \u001b[39m\u001b[38;5;132;01m{\u001b[39;00mimplied\u001b[38;5;132;01m}\u001b[39;00m\u001b[38;5;124m\"\u001b[39m)\n",
      "\u001b[1;31mValueError\u001b[0m: Shape of passed values is (1, 63), indices imply (1, 7)"
     ]
    },
    {
     "ename": "",
     "evalue": "",
     "output_type": "error",
     "traceback": [
      "\u001b[1;31mThe Kernel crashed while executing code in the current cell or a previous cell. \n",
      "\u001b[1;31mPlease review the code in the cell(s) to identify a possible cause of the failure. \n",
      "\u001b[1;31mClick <a href='https://aka.ms/vscodeJupyterKernelCrash'>here</a> for more info. \n",
      "\u001b[1;31mView Jupyter <a href='command:jupyter.viewOutput'>log</a> for further details."
     ]
    }
   ],
   "source": [
    "import cv2\n",
    "import numpy as np\n",
    "import mediapipe as mp\n",
    "from joblib import load\n",
    "from interface_aplication_tools import display_classification, display_prediction\n",
    "import time\n",
    "import pandas as pd\n",
    "from mlp_predict_tools import imagem_para_lista_de_coordenadas \n",
    "\n",
    "# Carregar o modelo treinado\n",
    "model = load('modelo_treinado_mediapipe.joblib')\n",
    "\n",
    "# Inicializar MediaPipe para detecção de mãos\n",
    "mp_hands = mp.solutions.hands\n",
    "hands = mp_hands.Hands(static_image_mode=False, max_num_hands=1, min_detection_confidence=0.5, min_tracking_confidence=0.5)\n",
    "\n",
    "imagem_para_lista_de_coordenadas()\n",
    "\n",
    "# Inicializar a câmera\n",
    "cap = cv2.VideoCapture(0)\n",
    "\n",
    "# Último tempo de captura\n",
    "last_capture_time = time.time()\n",
    "\n",
    "while cap.isOpened():\n",
    "    ret, frame = cap.read()\n",
    "    if not ret:\n",
    "        print(\"Erro ao capturar o frame da câmera\")\n",
    "        break\n",
    "    \n",
    "    # Converter a imagem para RGB\n",
    "    rgb_frame = cv2.cvtColor(frame, cv2.COLOR_BGR2RGB)\n",
    "    \n",
    "    # Processar a imagem com MediaPipe\n",
    "    result = hands.process(rgb_frame)\n",
    "\n",
    "    # Mostrar a câmera com um label inicial\n",
    "    display_prediction(frame)\n",
    "\n",
    "    # Tempo atual\n",
    "    current_time = time.time()\n",
    "    \n",
    "    # Verificar se 0.5 segundos passaram desde a última captura\n",
    "    if current_time - last_capture_time >= 0.5:\n",
    "        last_capture_time = current_time\n",
    "        \n",
    "        if result.multi_hand_landmarks:\n",
    "            for hand_landmarks in result.multi_hand_landmarks:\n",
    "                # Pré-processar os landmarks\n",
    "                landmarks_array = preprocess_landmarks(hand_landmarks)\n",
    "                \n",
    "                # Adicionar as coordenadas ao DataFrame\n",
    "                df_coordinates = pd.concat([df_coordinates, pd.DataFrame(landmarks_array, columns=df_coordinates.columns)], ignore_index=True)\n",
    "                \n",
    "                # Fazer a previsão usando o modelo\n",
    "                prediction = model.predict(landmarks_array)\n",
    "                predicted_class = np.argmax(prediction)\n",
    "                \n",
    "                # Mapear a classe prevista para a letra correspondente\n",
    "                classes = ['A', 'B', 'C', 'D', 'E', 'F', 'G', 'I', 'L', 'M', 'N', 'O', 'P', 'Q', 'R', 'S', 'T', 'U', 'V', 'W']\n",
    "                predicted_letter = classes[predicted_class]\n",
    "\n",
    "                # Exibir o resultado da classificação na câmera usando o OpenCV\n",
    "                display_classification(frame, predicted_letter)\n",
    "\n",
    "    # Aguardar um pequeno atraso antes de capturar o próximo frame\n",
    "    time.sleep(0.02)\n",
    "\n",
    "    # Fechar a câmera ao pressionar a tecla \"q\"\n",
    "    key = cv2.waitKey(1) & 0xFF\n",
    "    if key == ord('q'):\n",
    "        # Exportar o DataFrame para um arquivo CSV\n",
    "        df_coordinates.to_csv('landmarks_coordinates.csv', index=False)\n",
    "        break\n",
    "\n",
    "cap.release()\n",
    "cv2.destroyAllWindows()\n"
   ]
  }
 ],
 "metadata": {
  "colab": {
   "provenance": []
  },
  "kernelspec": {
   "display_name": "Python 3 (ipykernel)",
   "language": "python",
   "name": "python3"
  },
  "language_info": {
   "codemirror_mode": {
    "name": "ipython",
    "version": 3
   },
   "file_extension": ".py",
   "mimetype": "text/x-python",
   "name": "python",
   "nbconvert_exporter": "python",
   "pygments_lexer": "ipython3",
   "version": "3.11.9"
  }
 },
 "nbformat": 4,
 "nbformat_minor": 4
}
